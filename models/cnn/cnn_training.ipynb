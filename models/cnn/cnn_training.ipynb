{
 "cells": [
  {
   "cell_type": "markdown",
   "id": "61a16b2d-6084-449d-9c8d-7b2838b1c7c0",
   "metadata": {},
   "source": [
    "# CNN Training"
   ]
  },
  {
   "cell_type": "code",
   "execution_count": 2,
   "id": "b546a1d5-4060-4d26-b02e-ef90509f2e29",
   "metadata": {},
   "outputs": [],
   "source": [
    "## please write the code from here"
   ]
  },
  {
   "cell_type": "code",
   "execution_count": null,
   "id": "f05371e4-a3bf-44dd-af5f-aa6fb9a43244",
   "metadata": {},
   "outputs": [],
   "source": []
  }
 ],
 "metadata": {
  "kernelspec": {
   "display_name": "Python (cenv4py310)",
   "language": "python",
   "name": "cenv4py310"
  },
  "language_info": {
   "codemirror_mode": {
    "name": "ipython",
    "version": 3
   },
   "file_extension": ".py",
   "mimetype": "text/x-python",
   "name": "python",
   "nbconvert_exporter": "python",
   "pygments_lexer": "ipython3",
   "version": "3.10.13"
  }
 },
 "nbformat": 4,
 "nbformat_minor": 5
}
