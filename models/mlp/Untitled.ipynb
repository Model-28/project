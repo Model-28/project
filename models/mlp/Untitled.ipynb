{
 "cells": [
  {
   "cell_type": "code",
   "execution_count": 1,
   "id": "4530a091-ee4e-4dd5-a667-c5d4f75ebbed",
   "metadata": {},
   "outputs": [
    {
     "name": "stdout",
     "output_type": "stream",
     "text": [
      "0.0 1.0\n"
     ]
    }
   ],
   "source": [
    "# quick sanity-check in a notebook or REPL\n",
    "import numpy as np\n",
    "Xt = np.load(\"Xtrain.npy\")\n",
    "print(Xt.min(), Xt.max())     # should say 0.0 1.0"
   ]
  },
  {
   "cell_type": "code",
   "execution_count": 2,
   "id": "02878e21-05fa-42b3-8c1a-c55e30e9d966",
   "metadata": {},
   "outputs": [],
   "source": [
    "import os, numpy as np, tensorflow as tf"
   ]
  },
  {
   "cell_type": "code",
   "execution_count": 3,
   "id": "13afe4d1-eae7-42c1-923f-45f9117bf2ca",
   "metadata": {},
   "outputs": [
    {
     "name": "stdout",
     "output_type": "stream",
     "text": [
      "Loading model and a *small* sample (500 imgs)…\n"
     ]
    },
    {
     "name": "stderr",
     "output_type": "stream",
     "text": [
      "2025-06-07 18:15:24.190122: I metal_plugin/src/device/metal_device.cc:1154] Metal device set to: Apple M2 Pro\n",
      "2025-06-07 18:15:24.190176: I metal_plugin/src/device/metal_device.cc:296] systemMemory: 16.00 GB\n",
      "2025-06-07 18:15:24.190190: I metal_plugin/src/device/metal_device.cc:313] maxCacheSize: 5.33 GB\n",
      "2025-06-07 18:15:24.190224: I tensorflow/core/common_runtime/pluggable_device/pluggable_device_factory.cc:305] Could not identify NUMA node of platform GPU ID 0, defaulting to 0. Your kernel may not have been built with NUMA support.\n",
      "2025-06-07 18:15:24.190243: I tensorflow/core/common_runtime/pluggable_device/pluggable_device_factory.cc:271] Created TensorFlow device (/job:localhost/replica:0/task:0/device:GPU:0 with 0 MB memory) -> physical PluggableDevice (device: 0, name: METAL, pci bus id: <undefined>)\n",
      "WARNING:absl:Compiled the loaded model, but the compiled metrics have yet to be built. `model.compile_metrics` will be empty until you train or evaluate the model.\n"
     ]
    },
    {
     "name": "stdout",
     "output_type": "stream",
     "text": [
      "pixel range  : 0.0 → 1.0\n"
     ]
    }
   ],
   "source": [
    "MODEL_PATH        = \"best_mlp.h5\"\n",
    "RAW_DIR_TRAIN     = os.path.abspath(os.path.join(\"..\", \"..\", \"..\",\n",
    "                                                 \"archive\", \"seg_train\", \"seg_train\"))\n",
    "# adjust if your .npy files live elsewhere\n",
    "Xtest_path, ytest_path = \"Xtest.npy\", \"ytest.npy\"\n",
    "\n",
    "# 1 ── LOAD DATA & MODEL ───────────────────────────────────────────────────\n",
    "print(\"Loading model and a *small* sample (500 imgs)…\")\n",
    "model   = tf.keras.models.load_model(MODEL_PATH)\n",
    "Xtest   = np.load(Xtest_path)[:500]          # small slice for speed\n",
    "ytest   = np.load(ytest_path)[:500]\n",
    "\n",
    "# Sanity: make sure 0-1 scaling is consistent\n",
    "print(\"pixel range  :\", Xtest.min(), \"→\", Xtest.max())  # should be 0.0 … 1.0"
   ]
  },
  {
   "cell_type": "code",
   "execution_count": 4,
   "id": "b67ef755-8670-4cf8-919d-6faaab69d095",
   "metadata": {},
   "outputs": [
    {
     "name": "stderr",
     "output_type": "stream",
     "text": [
      "2025-06-07 18:15:56.269094: I tensorflow/core/grappler/optimizers/custom_graph_optimizer_registry.cc:117] Plugin optimizer for device_type GPU is enabled.\n"
     ]
    },
    {
     "name": "stdout",
     "output_type": "stream",
     "text": [
      "\n",
      "Sample probability vector (rounded to 6 dp):\n",
      "[0.006854 0.       0.       0.985302 0.005243 0.002601] sum = 0.99999994\n",
      "81.4% of samples have soft-max max-prob > 0.999\n"
     ]
    }
   ],
   "source": [
    "# 2 ── PROBE SOFT-MAX OUTPUTS (over-confidence test) ──────────────────────\n",
    "probs  = model.predict(Xtest, verbose=0)\n",
    "print(\"\\nSample probability vector (rounded to 6 dp):\")\n",
    "print(np.round(probs[0], 6), \"sum =\", probs[0].sum())\n",
    "\n",
    "high_conf_pct = (probs.max(axis=1) > 0.999).mean() * 100\n",
    "print(f\"{high_conf_pct:.1f}% of samples have soft-max max-prob > 0.999\")\n",
    "\n",
    "# If you see many 0.9999s here, the model itself is over-confident\n",
    "# (keep reading – we’ll still check the class order next)\n",
    "# -------------------------------------------------------------------------"
   ]
  },
  {
   "cell_type": "code",
   "execution_count": 5,
   "id": "cad0486b-7108-4fb2-adc0-5391b8b3958a",
   "metadata": {},
   "outputs": [
    {
     "name": "stdout",
     "output_type": "stream",
     "text": [
      "\n",
      "Flask list: ['buildings', 'forest', 'glacier', 'mountain', 'sea', 'street']\n"
     ]
    }
   ],
   "source": [
    "# 3 ── RECREATE THE CLASS LIST EXACTLY LIKE FLASK DOES ────────────────────\n",
    "classes_flask = sorted([d for d in os.listdir(RAW_DIR_TRAIN)\n",
    "                        if os.path.isdir(os.path.join(RAW_DIR_TRAIN, d))])\n",
    "print(\"\\nFlask list:\", classes_flask)"
   ]
  },
  {
   "cell_type": "code",
   "execution_count": 6,
   "id": "6ab34e00-16ac-4fa0-9d9d-041daaa42e6a",
   "metadata": {},
   "outputs": [
    {
     "name": "stdout",
     "output_type": "stream",
     "text": [
      "WARNING: classes.npy not found – you may already have a mismatch!\n"
     ]
    }
   ],
   "source": [
    "# 4 ── LOAD PREPROCESS() LIST, IF AVAILABLE ───────────────────────────────\n",
    "if os.path.exists(\"classes.npy\"):\n",
    "    classes_saved = list(np.load(\"classes.npy\"))\n",
    "    print(\"Saved list:\", classes_saved)\n",
    "else:\n",
    "    classes_saved = None\n",
    "    print(\"WARNING: classes.npy not found – you may already have a mismatch!\")"
   ]
  },
  {
   "cell_type": "code",
   "execution_count": 8,
   "id": "51c87fce-888b-488f-8906-c9d326ea9a0e",
   "metadata": {},
   "outputs": [],
   "source": [
    "# 5 ── COMPARE THE TWO LISTS ───────────────────────────────────────────────\n",
    "if classes_saved is not None:\n",
    "    same_order = classes_saved == classes_flask\n",
    "    print(\"\\nClass lists identical? –>\", same_order)\n",
    "    if not same_order:\n",
    "        diffs = [i for i,(a,b) in enumerate(zip(classes_saved, classes_flask)) if a!=b]\n",
    "        print(\"First few mismatching indices:\", diffs[:5])"
   ]
  },
  {
   "cell_type": "code",
   "execution_count": 9,
   "id": "b74f27cd-6daf-4a8c-a456-7482bfd4a511",
   "metadata": {},
   "outputs": [
    {
     "name": "stdout",
     "output_type": "stream",
     "text": [
      "\n",
      "Accuracy vs true labels (saved order):  44.20%\n",
      "Accuracy if Flask order is assumed:      44.20%\n"
     ]
    }
   ],
   "source": [
    "# 6 ── EVALUATE ACCURACY UNDER *BOTH* ORDERS ───────────────────────────────\n",
    "y_pred = np.argmax(probs, axis=1)\n",
    "\n",
    "# Accuracy if we decode exactly like preprocess() (ground truth)\n",
    "acc_saved = (y_pred == ytest).mean() if classes_saved is None else \\\n",
    "            (y_pred == ytest).mean()  # ytest already uses saved order\n",
    "\n",
    "# Accuracy if we (wrongly) decode with Flask order\n",
    "# We need to *remap* labels so they are integers 0..(k-1) in Flask order\n",
    "flask_index = {cls:i for i,cls in enumerate(classes_flask)}\n",
    "if classes_saved is None:\n",
    "    acc_flask = acc_saved\n",
    "else:\n",
    "    ytest_flask = np.vectorize(flask_index.get)(np.array(classes_saved)[ytest])\n",
    "    acc_flask = (y_pred == ytest_flask).mean()\n",
    "\n",
    "print(f\"\\nAccuracy vs true labels (saved order):  {acc_saved*100:.2f}%\")\n",
    "print(f\"Accuracy if Flask order is assumed:      {acc_flask*100:.2f}%\")"
   ]
  },
  {
   "cell_type": "code",
   "execution_count": null,
   "id": "d3ab293d-3fce-4797-bc7e-360abe121bf3",
   "metadata": {},
   "outputs": [],
   "source": []
  }
 ],
 "metadata": {
  "kernelspec": {
   "display_name": "Python (project-venv)",
   "language": "python",
   "name": "project-venv"
  },
  "language_info": {
   "codemirror_mode": {
    "name": "ipython",
    "version": 3
   },
   "file_extension": ".py",
   "mimetype": "text/x-python",
   "name": "python",
   "nbconvert_exporter": "python",
   "pygments_lexer": "ipython3",
   "version": "3.10.16"
  }
 },
 "nbformat": 4,
 "nbformat_minor": 5
}
